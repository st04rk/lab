{
 "cells": [
  {
   "cell_type": "code",
   "execution_count": 1,
   "id": "9a205570",
   "metadata": {},
   "outputs": [
    {
     "name": "stdout",
     "output_type": "stream",
     "text": [
      "a = [[11  2  4  8  7]\n",
      " [ 2 34 12 45 67]\n",
      " [11 77 55 26 45]\n",
      " [12 23 45  6 21]\n",
      " [10  9 17 16  3]]\n"
     ]
    },
    {
     "name": "stdin",
     "output_type": "stream",
     "text": [
      "Enter the row (0 to 4): 2\n",
      "Enter the column (0 to 4): 2\n"
     ]
    },
    {
     "name": "stdout",
     "output_type": "stream",
     "text": [
      "Element:  55\n",
      "\n",
      "Neighbours of N4:  [np.int64(45), np.int64(12), np.int64(26), np.int64(77)]\n",
      "\n",
      "Diagonal Neighbours Nd:  [np.int64(6), np.int64(23), np.int64(45), np.int64(34)]\n",
      "\n",
      "Neighbours of N8:  [np.int64(45), np.int64(12), np.int64(26), np.int64(77), np.int64(6), np.int64(23), np.int64(45), np.int64(34)]\n"
     ]
    }
   ],
   "source": [
    "import numpy as np\n",
    "a = np.array([[11,2,4,8,7],[2,34,12,45,67],[11,77,55,26,45],[12,23,45,6,21],[10,9,17,16,3]])\n",
    "print(\"a =\",a)\n",
    "b = int(input(\"Enter the row (0 to 4):\"))\n",
    "c = int(input(\"Enter the column (0 to 4):\"))\n",
    "print(\"Element: \",a[b,c])\n",
    "\n",
    "N4=[]\n",
    "if b+1<5:\n",
    "    N4.append(a[b+1,c])\n",
    "if b-1>=0:\n",
    "    N4.append(a[b-1,c])\n",
    "if c+1<5:\n",
    "    N4.append(a[b,c+1])\n",
    "if c-1>=0:\n",
    "    N4.append(a[b,c-1])\n",
    "print(\"\\nNeighbours of N4: \",N4)\n",
    "\n",
    "Nd = []\n",
    "    \n",
    "if b+1<5 and c+1<5:\n",
    "    Nd.append(a[b+1,c+1])\n",
    "if b+1<5 and c-1>=0:\n",
    "    Nd.append(a[b+1,c-1])\n",
    "if b-1>=0 and c+1<5:\n",
    "    Nd.append(a[b-1,c+1])\n",
    "if b-1>=0 and c-1>=0:\n",
    "    Nd.append(a[b-1,c-1])\n",
    "print(\"\\nDiagonal Neighbours Nd: \",Nd)\n",
    "\n",
    "N8 = []\n",
    "\n",
    "if b+1<5:\n",
    "    N8.append(a[b+1,c])\n",
    "if b-1>=0:\n",
    "    N8.append(a[b-1,c])\n",
    "if c+1<5:\n",
    "    N8.append(a[b,c+1])\n",
    "if c-1>=0:\n",
    "    N8.append(a[b,c-1])\n",
    "if b+1<5 and c+1<5:\n",
    "    N8.append(a[b+1,c+1])\n",
    "if b+1<5 and c-1>=0:\n",
    "    N8.append(a[b+1,c-1])\n",
    "if b-1>=0 and c+1<5:\n",
    "    N8.append(a[b-1,c+1])\n",
    "if b-1>=0 and c-1>=0:\n",
    "    N8.append(a[b-1,c-1])\n",
    "print(\"\\nNeighbours of N8: \",N8)"
   ]
  },
  {
   "cell_type": "code",
   "execution_count": null,
   "id": "92dc6a2f-5133-45fa-ab5c-c307741a77b2",
   "metadata": {},
   "outputs": [],
   "source": []
  }
 ],
 "metadata": {
  "kernelspec": {
   "display_name": "Python 3 (ipykernel)",
   "language": "python",
   "name": "python3"
  },
  "language_info": {
   "codemirror_mode": {
    "name": "ipython",
    "version": 3
   },
   "file_extension": ".py",
   "mimetype": "text/x-python",
   "name": "python",
   "nbconvert_exporter": "python",
   "pygments_lexer": "ipython3",
   "version": "3.10.12"
  }
 },
 "nbformat": 4,
 "nbformat_minor": 5
}
